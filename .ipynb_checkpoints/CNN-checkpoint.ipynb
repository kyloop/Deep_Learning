{
 "cells": [
  {
   "cell_type": "code",
   "execution_count": 1,
   "metadata": {},
   "outputs": [
    {
     "name": "stderr",
     "output_type": "stream",
     "text": [
      "Using TensorFlow backend.\n"
     ]
    }
   ],
   "source": [
    "import numpy as np\n",
    "import keras\n",
    "import tensorflow as tf\n",
    "# First install CIFAR10 from Keras\n",
    "from keras.datasets import cifar10\n",
    "\n",
    "(x_training, y_training), (x_test, y_test) = cifar10.load_data()"
   ]
  },
  {
   "cell_type": "code",
   "execution_count": 2,
   "metadata": {},
   "outputs": [],
   "source": [
    "x_training= (x_training - np.min(x_training)) / (np.max(x_training)-np.min(x_training))\n",
    "x_test= (x_test - np.min(x_test)) / (np.max(x_test)-np.min(x_test))"
   ]
  },
  {
   "cell_type": "code",
   "execution_count": 3,
   "metadata": {},
   "outputs": [],
   "source": [
    "# Then split 'training' into two subsets: train and validation.\n",
    "# After that, we have 3 subsets: train, validation and test.\n",
    "from sklearn.model_selection import train_test_split\n",
    "\n",
    "# 80% train, 20% validation, and by stratefied sampling.  \n",
    "x_train, x_valid, y_train, y_valid = train_test_split(x_training, \n",
    "                                                      y_training,\n",
    "                                                      stratify=y_training, \n",
    "                                                      test_size=0.2)"
   ]
  },
  {
   "cell_type": "code",
   "execution_count": 4,
   "metadata": {},
   "outputs": [],
   "source": [
    "from keras.utils import np_utils\n",
    "# Obtain the one-hot-vector representation of target (y).\n",
    "num_classes = 10\n",
    "\n",
    "y_train_bin = keras.utils.to_categorical(y_train, num_classes)\n",
    "y_valid_bin = keras.utils.to_categorical(y_valid, num_classes)\n",
    "y_test_bin = keras.utils.to_categorical(y_test, num_classes)\n"
   ]
  },
  {
   "cell_type": "code",
   "execution_count": 5,
   "metadata": {},
   "outputs": [
    {
     "data": {
      "text/plain": [
       "(40000, 10)"
      ]
     },
     "execution_count": 5,
     "metadata": {},
     "output_type": "execute_result"
    }
   ],
   "source": [
    "y_train_bin.shape"
   ]
  },
  {
   "cell_type": "code",
   "execution_count": 6,
   "metadata": {},
   "outputs": [
    {
     "data": {
      "text/plain": [
       "(10000, 10)"
      ]
     },
     "execution_count": 6,
     "metadata": {},
     "output_type": "execute_result"
    }
   ],
   "source": [
    "y_test_bin.shape"
   ]
  },
  {
   "cell_type": "code",
   "execution_count": 7,
   "metadata": {},
   "outputs": [],
   "source": [
    "import pandas as pd\n",
    "import numpy as np\n",
    "import keras\n",
    "from keras.models import Sequential\n",
    "from keras.layers import Dense, Activation, Flatten, Dropout, BatchNormalization\n",
    "from keras.layers import Conv2D, MaxPooling2D\n",
    "from keras import regularizers\n",
    "from keras.callbacks import LearningRateScheduler\n",
    "\n",
    "from keras.preprocessing.image import ImageDataGenerator\n",
    " \n",
    "def learningRate_schedule(epoch):\n",
    "    learningRate = 0.001\n",
    "    if epoch > 100:\n",
    "        learningRate = 0.0005       \n",
    "    return learningRate\n",
    "\n",
    "\n",
    "lmbda = 0.0005\n",
    "model = Sequential()\n",
    "model.add(Conv2D(32, (3,3), padding='same', kernel_regularizer=regularizers.l2(lmbda), \n",
    "                 input_shape=x_train.shape[1:]))\n",
    "model.add(Activation('relu'))\n",
    "model.add(BatchNormalization())\n",
    "model.add(Conv2D(32, (3,3), padding='same', kernel_regularizer=regularizers.l2(lmbda)))\n",
    "model.add(Activation('relu')) \n",
    "model.add(BatchNormalization())\n",
    "model.add(MaxPooling2D(pool_size=(2,2)))\n",
    "model.add(Dropout(0.1))\n",
    " \n",
    "model.add(Conv2D(64, (3,3), padding='same', kernel_regularizer=regularizers.l2(lmbda)))\n",
    "model.add(Activation('relu'))\n",
    "model.add(BatchNormalization())\n",
    "model.add(Conv2D(64, (3,3), padding='same', kernel_regularizer=regularizers.l2(lmbda)))\n",
    "model.add(Activation('relu'))\n",
    "model.add(BatchNormalization())\n",
    "model.add(MaxPooling2D(pool_size=(2,2)))\n",
    "model.add(Dropout(0.2))\n",
    " \n",
    "model.add(Conv2D(128, (3,3), padding='same', kernel_regularizer=regularizers.l2(lmbda)))\n",
    "model.add(Activation('relu'))\n",
    "model.add(BatchNormalization())\n",
    "model.add(Conv2D(128, (3,3), padding='same', kernel_regularizer=regularizers.l2(lmbda)))\n",
    "model.add(Activation('relu'))\n",
    "model.add(BatchNormalization())\n",
    "model.add(MaxPooling2D(pool_size=(2,2)))\n",
    "model.add(Dropout(0.3))\n",
    "\n",
    "model.add(Flatten())\n",
    "model.add(Dense(512, activation=\"relu\", kernel_regularizer=regularizers.l2(lmbda)))\n",
    "model.add(Dense(num_classes))\n",
    "model.add(Activation(tf.nn.softmax))\n",
    "          "
   ]
  },
  {
   "cell_type": "code",
   "execution_count": 8,
   "metadata": {},
   "outputs": [
    {
     "name": "stdout",
     "output_type": "stream",
     "text": [
      "_________________________________________________________________\n",
      "Layer (type)                 Output Shape              Param #   \n",
      "=================================================================\n",
      "conv2d_1 (Conv2D)            (None, 32, 32, 32)        896       \n",
      "_________________________________________________________________\n",
      "activation_1 (Activation)    (None, 32, 32, 32)        0         \n",
      "_________________________________________________________________\n",
      "batch_normalization_1 (Batch (None, 32, 32, 32)        128       \n",
      "_________________________________________________________________\n",
      "conv2d_2 (Conv2D)            (None, 32, 32, 32)        9248      \n",
      "_________________________________________________________________\n",
      "activation_2 (Activation)    (None, 32, 32, 32)        0         \n",
      "_________________________________________________________________\n",
      "batch_normalization_2 (Batch (None, 32, 32, 32)        128       \n",
      "_________________________________________________________________\n",
      "max_pooling2d_1 (MaxPooling2 (None, 16, 16, 32)        0         \n",
      "_________________________________________________________________\n",
      "dropout_1 (Dropout)          (None, 16, 16, 32)        0         \n",
      "_________________________________________________________________\n",
      "conv2d_3 (Conv2D)            (None, 16, 16, 64)        18496     \n",
      "_________________________________________________________________\n",
      "activation_3 (Activation)    (None, 16, 16, 64)        0         \n",
      "_________________________________________________________________\n",
      "batch_normalization_3 (Batch (None, 16, 16, 64)        256       \n",
      "_________________________________________________________________\n",
      "conv2d_4 (Conv2D)            (None, 16, 16, 64)        36928     \n",
      "_________________________________________________________________\n",
      "activation_4 (Activation)    (None, 16, 16, 64)        0         \n",
      "_________________________________________________________________\n",
      "batch_normalization_4 (Batch (None, 16, 16, 64)        256       \n",
      "_________________________________________________________________\n",
      "max_pooling2d_2 (MaxPooling2 (None, 8, 8, 64)          0         \n",
      "_________________________________________________________________\n",
      "dropout_2 (Dropout)          (None, 8, 8, 64)          0         \n",
      "_________________________________________________________________\n",
      "conv2d_5 (Conv2D)            (None, 8, 8, 128)         73856     \n",
      "_________________________________________________________________\n",
      "activation_5 (Activation)    (None, 8, 8, 128)         0         \n",
      "_________________________________________________________________\n",
      "batch_normalization_5 (Batch (None, 8, 8, 128)         512       \n",
      "_________________________________________________________________\n",
      "conv2d_6 (Conv2D)            (None, 8, 8, 128)         147584    \n",
      "_________________________________________________________________\n",
      "activation_6 (Activation)    (None, 8, 8, 128)         0         \n",
      "_________________________________________________________________\n",
      "batch_normalization_6 (Batch (None, 8, 8, 128)         512       \n",
      "_________________________________________________________________\n",
      "max_pooling2d_3 (MaxPooling2 (None, 4, 4, 128)         0         \n",
      "_________________________________________________________________\n",
      "dropout_3 (Dropout)          (None, 4, 4, 128)         0         \n",
      "_________________________________________________________________\n",
      "flatten_1 (Flatten)          (None, 2048)              0         \n",
      "_________________________________________________________________\n",
      "dense_1 (Dense)              (None, 512)               1049088   \n",
      "_________________________________________________________________\n",
      "dense_2 (Dense)              (None, 10)                5130      \n",
      "_________________________________________________________________\n",
      "activation_7 (Activation)    (None, 10)                0         \n",
      "=================================================================\n",
      "Total params: 1,343,018\n",
      "Trainable params: 1,342,122\n",
      "Non-trainable params: 896\n",
      "_________________________________________________________________\n"
     ]
    }
   ],
   "source": [
    "model.summary()"
   ]
  },
  {
   "cell_type": "code",
   "execution_count": null,
   "metadata": {},
   "outputs": [
    {
     "name": "stdout",
     "output_type": "stream",
     "text": [
      "Epoch 1/70\n",
      "800/800 [==============================] - 29s 37ms/step - loss: 2.1945 - acc: 0.4073 - val_loss: 1.8016 - val_acc: 0.5213\n",
      "Epoch 2/70\n",
      "800/800 [==============================] - 27s 34ms/step - loss: 1.6610 - acc: 0.5481 - val_loss: 1.5284 - val_acc: 0.5821\n",
      "Epoch 3/70\n",
      "800/800 [==============================] - 28s 34ms/step - loss: 1.4489 - acc: 0.6090 - val_loss: 1.3337 - val_acc: 0.6501\n",
      "Epoch 4/70\n",
      "800/800 [==============================] - 27s 34ms/step - loss: 1.3206 - acc: 0.6526 - val_loss: 1.4228 - val_acc: 0.6339\n",
      "Epoch 5/70\n",
      "800/800 [==============================] - 27s 34ms/step - loss: 1.2734 - acc: 0.6744 - val_loss: 1.5099 - val_acc: 0.6185\n",
      "Epoch 6/70\n",
      "800/800 [==============================] - 27s 34ms/step - loss: 1.2132 - acc: 0.6993 - val_loss: 1.1180 - val_acc: 0.7365\n",
      "Epoch 7/70\n",
      "800/800 [==============================] - 27s 34ms/step - loss: 1.1901 - acc: 0.7112 - val_loss: 1.4801 - val_acc: 0.6485\n",
      "Epoch 8/70\n",
      "800/800 [==============================] - 28s 34ms/step - loss: 1.1541 - acc: 0.7242 - val_loss: 1.2094 - val_acc: 0.7240\n",
      "Epoch 9/70\n",
      "800/800 [==============================] - 27s 34ms/step - loss: 1.1378 - acc: 0.7305 - val_loss: 1.0979 - val_acc: 0.7442\n",
      "Epoch 10/70\n",
      "800/800 [==============================] - 28s 35ms/step - loss: 1.1125 - acc: 0.7413 - val_loss: 1.1222 - val_acc: 0.7426\n",
      "Epoch 11/70\n",
      "800/800 [==============================] - 28s 35ms/step - loss: 1.0951 - acc: 0.7437 - val_loss: 1.0515 - val_acc: 0.7627\n",
      "Epoch 12/70\n",
      "800/800 [==============================] - 28s 35ms/step - loss: 1.0813 - acc: 0.7503 - val_loss: 1.0183 - val_acc: 0.7765\n",
      "Epoch 13/70\n",
      "800/800 [==============================] - 28s 34ms/step - loss: 1.0712 - acc: 0.7539 - val_loss: 1.3327 - val_acc: 0.6757\n",
      "Epoch 14/70\n",
      "800/800 [==============================] - 27s 34ms/step - loss: 1.0537 - acc: 0.7574 - val_loss: 1.1372 - val_acc: 0.7304\n",
      "Epoch 15/70\n",
      "800/800 [==============================] - 28s 34ms/step - loss: 1.0402 - acc: 0.7626 - val_loss: 1.0494 - val_acc: 0.7628\n",
      "Epoch 16/70\n",
      "800/800 [==============================] - 27s 34ms/step - loss: 1.0327 - acc: 0.7666 - val_loss: 1.1409 - val_acc: 0.7469\n",
      "Epoch 17/70\n",
      "800/800 [==============================] - 27s 34ms/step - loss: 1.0122 - acc: 0.7733 - val_loss: 1.0256 - val_acc: 0.7676\n",
      "Epoch 18/70\n",
      "800/800 [==============================] - 28s 34ms/step - loss: 1.0204 - acc: 0.7682 - val_loss: 0.9577 - val_acc: 0.7913\n",
      "Epoch 19/70\n",
      "800/800 [==============================] - 28s 35ms/step - loss: 1.0031 - acc: 0.7731 - val_loss: 0.9721 - val_acc: 0.7866\n",
      "Epoch 20/70\n",
      "800/800 [==============================] - 27s 34ms/step - loss: 1.0014 - acc: 0.7738 - val_loss: 1.3066 - val_acc: 0.7010\n",
      "Epoch 21/70\n",
      "800/800 [==============================] - 28s 34ms/step - loss: 0.9965 - acc: 0.7740 - val_loss: 1.1683 - val_acc: 0.7296\n",
      "Epoch 22/70\n",
      "800/800 [==============================] - 27s 34ms/step - loss: 0.9888 - acc: 0.7801 - val_loss: 0.9747 - val_acc: 0.7860\n",
      "Epoch 23/70\n",
      "800/800 [==============================] - 28s 35ms/step - loss: 0.9839 - acc: 0.7813 - val_loss: 0.9975 - val_acc: 0.7863\n",
      "Epoch 24/70\n",
      "800/800 [==============================] - 28s 34ms/step - loss: 0.9709 - acc: 0.7826 - val_loss: 1.0036 - val_acc: 0.7723\n",
      "Epoch 25/70\n",
      "800/800 [==============================] - 28s 35ms/step - loss: 0.9740 - acc: 0.7812 - val_loss: 0.9922 - val_acc: 0.7827\n",
      "Epoch 26/70\n",
      "800/800 [==============================] - 27s 34ms/step - loss: 0.9641 - acc: 0.7841 - val_loss: 0.9531 - val_acc: 0.7902\n",
      "Epoch 27/70\n",
      "800/800 [==============================] - 27s 34ms/step - loss: 0.9606 - acc: 0.7858 - val_loss: 1.0094 - val_acc: 0.7774\n",
      "Epoch 28/70\n",
      "800/800 [==============================] - 28s 34ms/step - loss: 0.9522 - acc: 0.7864 - val_loss: 0.9196 - val_acc: 0.8008\n",
      "Epoch 29/70\n",
      "800/800 [==============================] - 28s 35ms/step - loss: 0.9448 - acc: 0.7885 - val_loss: 0.8714 - val_acc: 0.8153\n",
      "Epoch 30/70\n",
      "800/800 [==============================] - 28s 34ms/step - loss: 0.9432 - acc: 0.7896 - val_loss: 0.9611 - val_acc: 0.7920\n",
      "Epoch 31/70\n",
      "800/800 [==============================] - 28s 35ms/step - loss: 0.9337 - acc: 0.7938 - val_loss: 1.0281 - val_acc: 0.7746\n",
      "Epoch 32/70\n",
      "800/800 [==============================] - 28s 35ms/step - loss: 0.8909 - acc: 0.8015 - val_loss: 0.9206 - val_acc: 0.8004\n",
      "Epoch 52/70\n",
      "800/800 [==============================] - 28s 34ms/step - loss: 0.8941 - acc: 0.8033 - val_loss: 0.8624 - val_acc: 0.8149\n",
      "Epoch 53/70\n",
      "800/800 [==============================] - 28s 35ms/step - loss: 0.8907 - acc: 0.8016 - val_loss: 0.8799 - val_acc: 0.8114\n",
      "Epoch 54/70\n",
      "800/800 [==============================] - 28s 35ms/step - loss: 0.8894 - acc: 0.8019 - val_loss: 0.8919 - val_acc: 0.8038\n",
      "Epoch 55/70\n",
      "800/800 [==============================] - 28s 35ms/step - loss: 0.8796 - acc: 0.8052 - val_loss: 0.8217 - val_acc: 0.8292\n",
      "Epoch 56/70\n",
      "800/800 [==============================] - 28s 34ms/step - loss: 0.8850 - acc: 0.8041 - val_loss: 0.8124 - val_acc: 0.8286\n",
      "Epoch 57/70\n",
      "800/800 [==============================] - 27s 34ms/step - loss: 0.8812 - acc: 0.8062 - val_loss: 0.9601 - val_acc: 0.7849\n",
      "Epoch 58/70\n",
      "800/800 [==============================] - 27s 34ms/step - loss: 0.8758 - acc: 0.8075 - val_loss: 1.0364 - val_acc: 0.7631\n",
      "Epoch 59/70\n",
      "800/800 [==============================] - 28s 35ms/step - loss: 0.8796 - acc: 0.8050 - val_loss: 0.8455 - val_acc: 0.8197\n",
      "Epoch 60/70\n",
      "800/800 [==============================] - 28s 35ms/step - loss: 0.8780 - acc: 0.8046 - val_loss: 1.0108 - val_acc: 0.7795\n",
      "Epoch 61/70\n",
      "800/800 [==============================] - 28s 34ms/step - loss: 0.8711 - acc: 0.8089 - val_loss: 0.7980 - val_acc: 0.8382\n",
      "Epoch 62/70\n",
      "800/800 [==============================] - 28s 35ms/step - loss: 0.8887 - acc: 0.8009 - val_loss: 0.8651 - val_acc: 0.8112\n",
      "Epoch 63/70\n",
      "800/800 [==============================] - 28s 35ms/step - loss: 0.8802 - acc: 0.8036 - val_loss: 0.9219 - val_acc: 0.8045\n",
      "Epoch 64/70\n",
      "800/800 [==============================] - 28s 35ms/step - loss: 0.8790 - acc: 0.8049 - val_loss: 0.7973 - val_acc: 0.8350\n",
      "Epoch 65/70\n",
      "800/800 [==============================] - 28s 35ms/step - loss: 0.8718 - acc: 0.8066 - val_loss: 1.1496 - val_acc: 0.7483\n",
      "Epoch 66/70\n",
      "800/800 [==============================] - 27s 34ms/step - loss: 0.8717 - acc: 0.8062 - val_loss: 0.8283 - val_acc: 0.8227\n",
      "Epoch 67/70\n",
      "800/800 [==============================] - 27s 34ms/step - loss: 0.8715 - acc: 0.8071 - val_loss: 0.8173 - val_acc: 0.8269\n",
      "Epoch 68/70\n",
      "800/800 [==============================] - 27s 34ms/step - loss: 0.8687 - acc: 0.8082 - val_loss: 1.1267 - val_acc: 0.7447\n",
      "Epoch 69/70\n",
      "800/800 [==============================] - 28s 34ms/step - loss: 0.8720 - acc: 0.8037 - val_loss: 0.7857 - val_acc: 0.8392\n",
      "Epoch 70/70\n",
      "800/800 [==============================] - 28s 34ms/step - loss: 0.8709 - acc: 0.8045 - val_loss: 0.9374 - val_acc: 0.7929\n",
      "10000/10000 [==============================] - 2s 205us/step\n",
      "Testing - loss: 0.968, acc:0.783\n"
     ]
    }
   ],
   "source": [
    "#data augmentation\n",
    "datagen = ImageDataGenerator(\n",
    "    width_shift_range=0.2, #Shift fraction of width of image\n",
    "    height_shift_range=0.2, #Shift fraction of height of image\n",
    "    horizontal_flip=True, #Horizontal flip \n",
    "    rotation_range=15, #Degree range for rotation\n",
    "    )\n",
    "#fit for learning\n",
    "datagen.fit(x_train)\n",
    "\n",
    "batch_size=50\n",
    "numberOfEpoch=70\n",
    "#epoch_lst=[5,10,15,20]\n",
    "\n",
    "#Model cost function and evaluation metrics\n",
    "model.compile(loss='categorical_crossentropy', optimizer=\"adam\", metrics=['accuracy'])\n",
    "\n",
    "#Fit data from data generator \n",
    "history=model.fit_generator(datagen.flow(x_train, y_train_bin, batch_size=batch_size),\n",
    "                    steps_per_epoch=x_train.shape[0] // batch_size,\n",
    "                    epochs=numberOfEpoch,\n",
    "                    verbose=1,\n",
    "                    validation_data=(x_valid,y_valid_bin),\n",
    "                    callbacks=[LearningRateScheduler(learningRate_schedule)])\n",
    "\n",
    "#Save models in disk\n",
    "model.save(\"./model_1_folder/model_EP%s.h5\"%(numberOfEpoch))\n",
    "\n",
    "#Generate prediction labels and evaluate performance in test set.\n",
    "pred_Class = model.predict(x_test)\n",
    "scores = model.evaluate(x_test, y_test_bin, batch_size=batch_size*2, verbose=1)\n",
    "print('Testing - loss: %.3f, acc:%0.3f' % (scores[0],scores[1]))"
   ]
  },
  {
   "cell_type": "code",
   "execution_count": 26,
   "metadata": {},
   "outputs": [],
   "source": [
    "import pandas as pd\n",
    "df_sub = pd.DataFrame(pred_Class)\n",
    "df_sub = df_sub.reset_index()\n",
    "df_sub[\"index\"] = list(np.linspace(1,pred_Class.shape[0], pred_Class.shape[0], dtype=int))\n",
    "df_sub.columns = [\"id\",\"cat0\",\"cat1\",\"cat2\",\"cat3\",\"cat4\",\"cat5\",\"cat6\",\"cat7\",\"cat8\",\"cat9\"]\n",
    "df_sub.to_csv(\"submit1.csv\", index=False)"
   ]
  },
  {
   "cell_type": "code",
   "execution_count": 23,
   "metadata": {},
   "outputs": [
    {
     "data": {
      "text/plain": [
       "[1.9453992223739625,\n",
       " 2.382389218211174,\n",
       " 1.2761321184039116,\n",
       " 1.1855011728405953,\n",
       " 1.0556162048876285,\n",
       " 0.8323342095315457,\n",
       " 0.8581452484428883,\n",
       " 0.8320617844164372,\n",
       " 0.8851245625317097,\n",
       " 0.773005988150835]"
      ]
     },
     "execution_count": 23,
     "metadata": {},
     "output_type": "execute_result"
    }
   ],
   "source": [
    "attr = list(history.history.keys())\n",
    "history.history[attr[0]]\n"
   ]
  },
  {
   "cell_type": "code",
   "execution_count": 40,
   "metadata": {},
   "outputs": [
    {
     "name": "stdout",
     "output_type": "stream",
     "text": [
      "10000/10000 [==============================] - 2s 231us/step\n",
      "\n",
      "Test result: 19.520 loss: 11.911\n"
     ]
    }
   ],
   "source": [
    "#testing\n",
    "pred_Class = model.predict(x_test)\n",
    "scores = model.evaluate(x_test, y_test_bin, batch_size=batch_size, verbose=1)\n",
    "print('\\nTest result: %.3f loss: %.3f' % (scores[1]*100,scores[0]))"
   ]
  },
  {
   "cell_type": "code",
   "execution_count": null,
   "metadata": {},
   "outputs": [],
   "source": []
  },
  {
   "cell_type": "code",
   "execution_count": null,
   "metadata": {},
   "outputs": [],
   "source": []
  },
  {
   "cell_type": "code",
   "execution_count": null,
   "metadata": {},
   "outputs": [],
   "source": []
  },
  {
   "cell_type": "code",
   "execution_count": null,
   "metadata": {},
   "outputs": [],
   "source": []
  },
  {
   "cell_type": "code",
   "execution_count": null,
   "metadata": {},
   "outputs": [],
   "source": []
  },
  {
   "cell_type": "code",
   "execution_count": null,
   "metadata": {},
   "outputs": [],
   "source": []
  },
  {
   "cell_type": "code",
   "execution_count": null,
   "metadata": {},
   "outputs": [],
   "source": []
  },
  {
   "cell_type": "code",
   "execution_count": null,
   "metadata": {},
   "outputs": [],
   "source": []
  }
 ],
 "metadata": {
  "kernelspec": {
   "display_name": "Python 3",
   "language": "python",
   "name": "python3"
  },
  "language_info": {
   "codemirror_mode": {
    "name": "ipython",
    "version": 3
   },
   "file_extension": ".py",
   "mimetype": "text/x-python",
   "name": "python",
   "nbconvert_exporter": "python",
   "pygments_lexer": "ipython3",
   "version": "3.6.4"
  }
 },
 "nbformat": 4,
 "nbformat_minor": 2
}
