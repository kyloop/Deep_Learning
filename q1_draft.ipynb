{
 "cells": [
  {
   "cell_type": "markdown",
   "metadata": {},
   "source": [
    "### Question 4.1"
   ]
  },
  {
   "cell_type": "code",
   "execution_count": 32,
   "metadata": {},
   "outputs": [],
   "source": [
    "#Function to check whether the output are fulfilled our requirement\n",
    "#xLst: List which contains all the Xs input values\n",
    "#w: List which contains all the weight values assoicated with Xs\n",
    "#target: List which contains the target values associated with the summation \n",
    "#cutOff: Bias / threshold value\n",
    "\n",
    "def caseCheck(xLst,w,target,  cutOff):\n",
    "    t=target\n",
    "    suss_cnt=0\n",
    "    break_loop = False\n",
    "    for case in range(len(xLst)):\n",
    "        ans = np.dot(w,xLst[case])\n",
    "\n",
    "        if ans>cutOff:ans=1\n",
    "        else:ans=-1\n",
    "        #print(\"ans\", ans)\n",
    "\n",
    "        if ans == t[case]: \n",
    "            suss_cnt+=1\n",
    "            if suss_cnt == len(xLst):\n",
    "                #print(\"suss_cnt\", suss_cnt)\n",
    "                return(1, suss_cnt)\n",
    "            pass\n",
    "        else:\n",
    "            suss_cnt=0\n",
    "            return(0, suss_cnt)"
   ]
  },
  {
   "cell_type": "code",
   "execution_count": 33,
   "metadata": {},
   "outputs": [
    {
     "name": "stdout",
     "output_type": "stream",
     "text": [
      "Pass 4 input cases\n",
      "Weight Combinations:  [ 1.   0.1 -0.1]\n",
      "Pass 4 input cases\n",
      "Weight Combinations:  [ 1.   0.3 -0.3]\n",
      "Pass 4 input cases\n",
      "Weight Combinations:  [ 1.   0.6 -0.6]\n",
      "Pass 4 input cases\n",
      "Weight Combinations:  [ 1.   0.8 -0.8]\n",
      "Pass 4 input cases\n",
      "Weight Combinations:  [ 1.  1. -1.]\n"
     ]
    }
   ],
   "source": [
    "import numpy as np\n",
    "\n",
    "xLst = [[1,1,1],[1,1,-1,], [1,-1,1],[1,-1,-1]]\n",
    "target=[-1, 1,-1,-1] #Target\n",
    "w0=1\n",
    "\n",
    "break_loop = False\n",
    "cutOff = 1 #Bias / threshold\n",
    "\n",
    "for w1 in list(np.linspace(-1,1,10)):\n",
    "    for w2 in list(np.linspace(-1,1,10)):\n",
    "        w1 = round(w1,1)\n",
    "        w2 = round(w2,1)            \n",
    "        w= [w0, w1 , w2]\n",
    "        \n",
    "        output, suss_cnt = caseCheck(xLst,w,target,  cutOff)\n",
    "        \n",
    "        if output != False:\n",
    "            print(\"Pass %d input cases\" %(suss_cnt))\n",
    "            print(\"Weight Combinations: \",np.round(np.array(w),1))\n",
    "            break_loop = True\n",
    "            break\n",
    "        else: pass\n",
    "    #if break_loop == True:break\n",
    "\n"
   ]
  },
  {
   "cell_type": "code",
   "execution_count": 54,
   "metadata": {},
   "outputs": [
    {
     "data": {
      "text/plain": [
       "1"
      ]
     },
     "execution_count": 54,
     "metadata": {},
     "output_type": "execute_result"
    }
   ],
   "source": [
    "x1 = [1,1,1]\n",
    "x2 = [1,1,-1,]\n",
    "x3 = [1,-1,1]\n",
    "x4 = [1,-1,-1]\n",
    "\n",
    "w= [ 1. ,  1 ,-1]\n",
    "out = np.dot(w, x2)\n",
    "if out >1: out=1\n",
    "else: out=-1\n",
    "    \n",
    "out\n"
   ]
  },
  {
   "cell_type": "code",
   "execution_count": null,
   "metadata": {},
   "outputs": [],
   "source": [
    "import numpy as np\n",
    "\n",
    "xLst = [[1,1,1],[1,1,-1,], [1,-1,1],[1,-1,-1]]\n",
    "t=[-1, 1,-1,-1] #Target\n",
    "w0=1\n",
    "\n",
    "break_loop = False\n",
    "cutOff = 1\n",
    "\n",
    "for w1 in list(np.linspace(-1,1,100)):\n",
    "    for w2 in list(np.linspace(-1,1,100)):\n",
    "        w1 = round(w1,1)\n",
    "        w2 = round(w2,1)            \n",
    "        w= [w0, w1 , w2]\n",
    "        #print(\"w\",w)\n",
    "\n",
    "        suss_cnt=0\n",
    "        for case in range(len(xLst)):\n",
    "            ans = np.dot(w,xLst[case])\n",
    "            \n",
    "            if ans>cutOff:\n",
    "                ans=1\n",
    "            else:\n",
    "                ans=-1\n",
    "            #print(\"ans\", ans)\n",
    "            \n",
    "            if ans == t[case]:\n",
    "                suss_cnt+=1\n",
    "                if suss_cnt == len(xLst):\n",
    "                    print(\"suss_cnt\", suss_cnt)\n",
    "                    break_loop = True\n",
    "                    print(\"w\", w)\n",
    "                    break\n",
    "                pass\n",
    "            else:\n",
    "                suss_cnt=0\n",
    "                break\n",
    "                \n",
    "        if break_loop ==True:\n",
    "            break\n",
    "    if break_loop == True:\n",
    "        break\n"
   ]
  },
  {
   "cell_type": "markdown",
   "metadata": {},
   "source": [
    "### Question 4.2"
   ]
  },
  {
   "cell_type": "code",
   "execution_count": 24,
   "metadata": {},
   "outputs": [
    {
     "name": "stdout",
     "output_type": "stream",
     "text": [
      "Pass 4 input cases\n",
      "Weights Combinations:  [1, -1.0, -1.0] [1, 0.5, 0.5] [1, -1.0, -1.0]\n",
      "Pass 4 input cases\n",
      "Weights Combinations:  [1, -1.0, -1.0] [1, 0.5, 0.5] [1, -0.5, -0.5]\n",
      "Pass 4 input cases\n",
      "Weights Combinations:  [1, -1.0, -1.0] [1, 1.0, 1.0] [1, -1.0, -1.0]\n",
      "Pass 4 input cases\n",
      "Weights Combinations:  [1, -1.0, -1.0] [1, 1.0, 1.0] [1, -0.5, -0.5]\n",
      "Pass 4 input cases\n",
      "Weights Combinations:  [1, -0.5, -0.5] [1, 0.5, 0.5] [1, -1.0, -1.0]\n",
      "Pass 4 input cases\n",
      "Weights Combinations:  [1, -0.5, -0.5] [1, 0.5, 0.5] [1, -0.5, -0.5]\n",
      "Pass 4 input cases\n",
      "Weights Combinations:  [1, -0.5, -0.5] [1, 1.0, 1.0] [1, -1.0, -1.0]\n",
      "Pass 4 input cases\n",
      "Weights Combinations:  [1, -0.5, -0.5] [1, 1.0, 1.0] [1, -0.5, -0.5]\n",
      "Pass 4 input cases\n",
      "Weights Combinations:  [1, 0.5, 0.5] [1, -1.0, -1.0] [1, -1.0, -1.0]\n",
      "Pass 4 input cases\n",
      "Weights Combinations:  [1, 0.5, 0.5] [1, -1.0, -1.0] [1, -0.5, -0.5]\n",
      "Pass 4 input cases\n",
      "Weights Combinations:  [1, 0.5, 0.5] [1, -0.5, -0.5] [1, -1.0, -1.0]\n",
      "Pass 4 input cases\n",
      "Weights Combinations:  [1, 0.5, 0.5] [1, -0.5, -0.5] [1, -0.5, -0.5]\n",
      "Pass 4 input cases\n",
      "Weights Combinations:  [1, 1.0, 1.0] [1, -1.0, -1.0] [1, -1.0, -1.0]\n",
      "Pass 4 input cases\n",
      "Weights Combinations:  [1, 1.0, 1.0] [1, -1.0, -1.0] [1, -0.5, -0.5]\n",
      "Pass 4 input cases\n",
      "Weights Combinations:  [1, 1.0, 1.0] [1, -0.5, -0.5] [1, -1.0, -1.0]\n",
      "Pass 4 input cases\n",
      "Weights Combinations:  [1, 1.0, 1.0] [1, -0.5, -0.5] [1, -0.5, -0.5]\n"
     ]
    }
   ],
   "source": [
    "import numpy as np\n",
    "\n",
    "xLst1 = [[1,1,1],[1,1,-1,], [1,-1,1],[1,-1,-1]]\n",
    "target=[-1, 1,1,-1] #Target\n",
    "w0=1\n",
    "w5=1\n",
    "\n",
    "break_loop = False\n",
    "cutOff = 1\n",
    "\n",
    "for w1 in list(np.linspace(-1,1,5)):\n",
    "    for w2 in list(np.linspace(-1,1,5)):\n",
    "        for w3 in list(np.linspace(-1,1,5)):\n",
    "            for w4 in list(np.linspace(-1,1,5)):\n",
    "                for w6 in list(np.linspace(-1,1,5)):\n",
    "                    for w7 in list(np.linspace(-1,1,5)):\n",
    "\n",
    "                        w1 = round(w1,1)\n",
    "                        w2 = round(w2,1)            \n",
    "                        wLst1 = [w0, w1 , w2]\n",
    "\n",
    "                        w3 = round(w3,1)\n",
    "                        w4 = round(w4,1)            \n",
    "                        wLst2 = [w0, w3 , w4]\n",
    "                        \n",
    "                        w6 = round(w6,1)\n",
    "                        w7 = round(w7,1)            \n",
    "                        wLst3 = [w5, w6 , w7]\n",
    "                        \n",
    "                        suss_cnt=0\n",
    "                        for case in range(len(xLst1)):\n",
    "                            o1 = np.dot(wLst1,xLst1[case])\n",
    "                            o2 = np.dot(wLst2,xLst1[case])\n",
    "                            \n",
    "                            if o1 > cutOff: o1=1\n",
    "                            else: o1=-1\n",
    "                            #print(\"o1\", o1)\n",
    "\n",
    "                            if o2 > cutOff: o2=1\n",
    "                            else: o2=-1\n",
    "                            #print(\"o2\",o2)   \n",
    "                            \n",
    "                            xLst2 = [1, o1, o2]\n",
    "                            \n",
    "                            o3 = np.dot(wLst3,xLst2)\n",
    "                            \n",
    "                            if o3 > cutOff: o3=1\n",
    "                            else: o3=-1\n",
    "                            #print(\"o3\",o3) \n",
    "                            \n",
    "                            if o3 == target[case]:\n",
    "                                suss_cnt+=1\n",
    "                                if suss_cnt == len(xLst1):\n",
    "                                    print(\"Pass %d input cases\" %(suss_cnt))\n",
    "                                    print(\"Weights Combinations: \",wLst1, wLst2, wLst3)\n",
    "                                    break_loop = True\n",
    "                                else:\n",
    "                                    pass\n",
    "                            else:\n",
    "                                suss_cnt =0\n",
    "                        \n"
   ]
  },
  {
   "cell_type": "code",
   "execution_count": 20,
   "metadata": {},
   "outputs": [
    {
     "data": {
      "text/plain": [
       "-1"
      ]
     },
     "execution_count": 20,
     "metadata": {},
     "output_type": "execute_result"
    }
   ],
   "source": [
    "x1 = [1 , 1, 1]\n",
    "x2 = [1, 1, -1]\n",
    "x3 = [1, -1, 1]\n",
    "x4 = [1, -1, -1]\n",
    "\n",
    "\n",
    "\n",
    "w1 = [1, 1.0, 1.0] \n",
    "w2 = [1, -1.0, -1.0] \n",
    "w3 = [1, -1.0, -1.0]\n",
    "\n",
    "o1 = np.dot(x4, w1)\n",
    "if o1 > cutOff: o1=1\n",
    "else: o1=-1\n",
    "o2 = np.dot(x4, w2)\n",
    "if o2 > cutOff: o2=1\n",
    "else: o2=-1\n",
    "o3 = np.dot([1, o1, o2], w3)\n",
    "if o3 > cutOff: o3=1\n",
    "else: o3=-1\n",
    "\n",
    "o3\n"
   ]
  },
  {
   "cell_type": "code",
   "execution_count": null,
   "metadata": {},
   "outputs": [],
   "source": []
  },
  {
   "cell_type": "code",
   "execution_count": null,
   "metadata": {},
   "outputs": [],
   "source": []
  },
  {
   "cell_type": "code",
   "execution_count": null,
   "metadata": {},
   "outputs": [],
   "source": []
  },
  {
   "cell_type": "code",
   "execution_count": null,
   "metadata": {},
   "outputs": [],
   "source": []
  },
  {
   "cell_type": "code",
   "execution_count": null,
   "metadata": {},
   "outputs": [],
   "source": []
  },
  {
   "cell_type": "code",
   "execution_count": null,
   "metadata": {},
   "outputs": [],
   "source": []
  },
  {
   "cell_type": "code",
   "execution_count": null,
   "metadata": {},
   "outputs": [],
   "source": []
  }
 ],
 "metadata": {
  "kernelspec": {
   "display_name": "Python 3",
   "language": "python",
   "name": "python3"
  },
  "language_info": {
   "codemirror_mode": {
    "name": "ipython",
    "version": 3
   },
   "file_extension": ".py",
   "mimetype": "text/x-python",
   "name": "python",
   "nbconvert_exporter": "python",
   "pygments_lexer": "ipython3",
   "version": "3.6.4"
  }
 },
 "nbformat": 4,
 "nbformat_minor": 2
}
