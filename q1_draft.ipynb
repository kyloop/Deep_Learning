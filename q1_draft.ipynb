{
 "cells": [
  {
   "cell_type": "code",
   "execution_count": 1,
   "metadata": {},
   "outputs": [
    {
     "name": "stdout",
     "output_type": "stream",
     "text": [
      "8\n"
     ]
    }
   ],
   "source": [
    "import q1q1 as qq\n",
    "\n",
    "qqp = qq.percetron(2)\n",
    "qqp.executeFunc()"
   ]
  },
  {
   "cell_type": "code",
   "execution_count": 1,
   "metadata": {},
   "outputs": [
    {
     "data": {
      "text/plain": [
       "5"
      ]
     },
     "execution_count": 1,
     "metadata": {},
     "output_type": "execute_result"
    }
   ],
   "source": [
    "import numpy as np\n",
    "a=[1,2]\n",
    "b=[1,2]\n",
    "np.dot(a,b)"
   ]
  },
  {
   "cell_type": "code",
   "execution_count": 6,
   "metadata": {},
   "outputs": [
    {
     "data": {
      "text/plain": [
       "array([ 0.        ,  0.05263158,  0.10526316,  0.15789474,  0.21052632,\n",
       "        0.26315789,  0.31578947,  0.36842105,  0.42105263,  0.47368421,\n",
       "        0.52631579,  0.57894737,  0.63157895,  0.68421053,  0.73684211,\n",
       "        0.78947368,  0.84210526,  0.89473684,  0.94736842,  1.        ])"
      ]
     },
     "execution_count": 6,
     "metadata": {},
     "output_type": "execute_result"
    }
   ],
   "source": [
    "np.linspace(0,1,20)"
   ]
  },
  {
   "cell_type": "code",
   "execution_count": 45,
   "metadata": {},
   "outputs": [
    {
     "name": "stdout",
     "output_type": "stream",
     "text": [
      "[1, 1, 1]\n",
      "[1, 1, -1]\n",
      "[1, -1, 1]\n"
     ]
    }
   ],
   "source": [
    "\n",
    "for case in range(0,3):\n",
    "    print(d[str(case)])"
   ]
  },
  {
   "cell_type": "code",
   "execution_count": 48,
   "metadata": {},
   "outputs": [
    {
     "name": "stdout",
     "output_type": "stream",
     "text": [
      "[1, 1, 1]\n",
      "[1, 1, -1]\n",
      "[1, -1, 1]\n"
     ]
    }
   ],
   "source": [
    "d={\"0\":[1,1,1], \"1\":[1,1,-1,], \"2\":[1,-1,1], \"3\":[1,-1,-1]}\n",
    "t=[-1, 1,-1,-1]\n",
    "x=[]\n",
    "for case in range(0,3):\n",
    "    for num in d[str(case)]:\n",
    "        x.append(num)\n",
    "    print(x)\n",
    "    "
   ]
  },
  {
   "cell_type": "code",
   "execution_count": 65,
   "metadata": {},
   "outputs": [
    {
     "name": "stdout",
     "output_type": "stream",
     "text": [
      "Case: 0\n",
      "Input: [1, 1, 1]\n",
      "Weight: [1, -1.0, -1.0]\n",
      "Target: -1\n",
      "\n",
      "Case: 1\n",
      "Input: [1, 1, -1]\n",
      "Weight: [1, -1.0, -1.0]\n",
      "Target: 1\n",
      "\n",
      "Case: 2\n",
      "Input: [1, -1, 1]\n",
      "Weight: [1, 0.10000000000000001, -1.0]\n",
      "Target: -1\n",
      "\n",
      "Case: 3\n",
      "Input: [1, -1, -1]\n",
      "Weight: [1, 0.10000000000000001, 1.0]\n",
      "Target: -1\n",
      "\n"
     ]
    }
   ],
   "source": [
    "#Initialize the weight of the Perceptron\n",
    "w0=1\n",
    "w1=0\n",
    "w2=0\n",
    "\n",
    "#Initialize the 4 cases of \"A and NOT B\" condition\n",
    "xdict={\"0\":[1,1,1], \"1\":[1,1,-1,], \"2\":[1,-1,1], \"3\":[1,-1,-1]}\n",
    "\n",
    "\n",
    "for case in range(0,4):\n",
    "    for num in xdict[str(case)]:\n",
    "        x.append(num)\n",
    "    print(\"Case:\", case)\n",
    "    print(\"Input:\",x)\n",
    "\n",
    "    break_loop = False\n",
    "    for w1 in list(np.linspace(-1,1,10)):\n",
    "        for w2 in list(np.linspace(-1,1,10)):\n",
    "            w1 = round(w1,1)\n",
    "            w2 = round(w2,1)            \n",
    "            w= [w0, w1 , w2]\n",
    "            ans = np.dot(w,x)\n",
    "            #print(ans)\n",
    "            if ans>0:\n",
    "                ans=1\n",
    "            else:\n",
    "                ans=-1\n",
    "\n",
    "            if ans==t[case]:\n",
    "                #print(w)\n",
    "                break_loop = True\n",
    "                break\n",
    "        if break_loop == True:\n",
    "            break\n",
    "    print(\"Weight:\", w)\n",
    "    print(\"Target:\",t[case])\n",
    "    print()\n",
    "    x=[]"
   ]
  }
 ],
 "metadata": {
  "kernelspec": {
   "display_name": "Python 3",
   "language": "python",
   "name": "python3"
  },
  "language_info": {
   "codemirror_mode": {
    "name": "ipython",
    "version": 3
   },
   "file_extension": ".py",
   "mimetype": "text/x-python",
   "name": "python",
   "nbconvert_exporter": "python",
   "pygments_lexer": "ipython3",
   "version": "3.6.4"
  }
 },
 "nbformat": 4,
 "nbformat_minor": 2
}
